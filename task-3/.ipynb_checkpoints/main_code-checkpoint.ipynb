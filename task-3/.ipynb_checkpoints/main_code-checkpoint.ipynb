{
 "cells": [
  {
   "cell_type": "code",
   "execution_count": 18,
   "id": "7a361c5b",
   "metadata": {},
   "outputs": [
    {
     "name": "stdout",
     "output_type": "stream",
     "text": [
      "WELCOME-TO-THE-GAME-PLAYER :)\n",
      "How Many Numbers To START? Give Me A Number: 2\n",
      "Enter 1 Value: 1\n",
      "Enter 2 Value: 2\n",
      "Reversed numbers: [2, 1]\n",
      "Item counts: {1: 1, 2: 1}\n"
     ]
    }
   ],
   "source": [
    "from typing import TypeVar, List, Dict\n",
    "\n",
    "T = TypeVar('T')\n",
    "\n",
    "def reverse_list(items: List[T]) -> List[T]:\n",
    "    return items[::-1]\n",
    "\n",
    "def count_items(items: List[T]) -> Dict[T, int]:\n",
    "    item_counts = {}\n",
    "    for item in items:\n",
    "        if item in item_counts:\n",
    "            item_counts[item] += 1\n",
    "        else:\n",
    "            item_counts[item] = 1\n",
    "    return item_counts\n",
    "\n",
    "\n",
    "print(\"WELCOME-TO-THE-GAME-PLAYER :)\")\n",
    "value = int(input(\"How Many Numbers To START? Give Me A Number: \"))\n",
    "numbers = [] \n",
    "\n",
    "for i in range(0, value):\n",
    "    vault = int(input(\"Enter \" + str(i+1) + \" Value: \"))\n",
    "    numbers.append(vault)  \n",
    "\n",
    "reversed_numbers = reverse_list(numbers)\n",
    "print(\"Reversed numbers:\", reversed_numbers)\n",
    "\n",
    "counts = count_items(numbers)\n",
    "print(\"Item counts:\", counts)\n"
   ]
  },
  {
   "cell_type": "code",
   "execution_count": null,
   "id": "0d706779",
   "metadata": {},
   "outputs": [],
   "source": []
  }
 ],
 "metadata": {
  "kernelspec": {
   "display_name": "Python 3",
   "language": "python",
   "name": "python3"
  },
  "language_info": {
   "codemirror_mode": {
    "name": "ipython",
    "version": 3
   },
   "file_extension": ".py",
   "mimetype": "text/x-python",
   "name": "python",
   "nbconvert_exporter": "python",
   "pygments_lexer": "ipython3",
   "version": "3.8.10"
  }
 },
 "nbformat": 4,
 "nbformat_minor": 5
}
