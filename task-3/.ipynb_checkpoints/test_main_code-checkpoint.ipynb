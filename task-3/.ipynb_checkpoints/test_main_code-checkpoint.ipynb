{
 "cells": [
  {
   "cell_type": "code",
   "execution_count": 4,
   "id": "29161947",
   "metadata": {},
   "outputs": [
    {
     "ename": "ModuleNotFoundError",
     "evalue": "No module named 'main_code'",
     "output_type": "error",
     "traceback": [
      "\u001b[0;31m---------------------------------------------------------------------------\u001b[0m",
      "\u001b[0;31mModuleNotFoundError\u001b[0m                       Traceback (most recent call last)",
      "\u001b[0;32m<ipython-input-4-6b8b390d09d8>\u001b[0m in \u001b[0;36m<module>\u001b[0;34m\u001b[0m\n\u001b[0;32m----> 1\u001b[0;31m \u001b[0;32mfrom\u001b[0m \u001b[0mmain_code\u001b[0m \u001b[0;32mimport\u001b[0m \u001b[0mreverse_list\u001b[0m\u001b[0;34m,\u001b[0m \u001b[0mcount_items\u001b[0m\u001b[0;34m\u001b[0m\u001b[0;34m\u001b[0m\u001b[0m\n\u001b[0m\u001b[1;32m      2\u001b[0m \u001b[0;34m\u001b[0m\u001b[0m\n\u001b[1;32m      3\u001b[0m \u001b[0;31m# Unit Testing\u001b[0m\u001b[0;34m\u001b[0m\u001b[0;34m\u001b[0m\u001b[0;34m\u001b[0m\u001b[0m\n\u001b[1;32m      4\u001b[0m \u001b[0;32mdef\u001b[0m \u001b[0mtest_reverse_list\u001b[0m\u001b[0;34m(\u001b[0m\u001b[0;34m)\u001b[0m\u001b[0;34m:\u001b[0m\u001b[0;34m\u001b[0m\u001b[0;34m\u001b[0m\u001b[0m\n\u001b[1;32m      5\u001b[0m     \u001b[0;32massert\u001b[0m \u001b[0mreverse_list\u001b[0m\u001b[0;34m(\u001b[0m\u001b[0;34m[\u001b[0m\u001b[0;36m1\u001b[0m\u001b[0;34m,\u001b[0m \u001b[0;36m2\u001b[0m\u001b[0;34m,\u001b[0m \u001b[0;36m3\u001b[0m\u001b[0;34m]\u001b[0m\u001b[0;34m)\u001b[0m \u001b[0;34m==\u001b[0m \u001b[0;34m[\u001b[0m\u001b[0;36m3\u001b[0m\u001b[0;34m,\u001b[0m \u001b[0;36m2\u001b[0m\u001b[0;34m,\u001b[0m \u001b[0;36m1\u001b[0m\u001b[0;34m]\u001b[0m\u001b[0;34m\u001b[0m\u001b[0;34m\u001b[0m\u001b[0m\n",
      "\u001b[0;31mModuleNotFoundError\u001b[0m: No module named 'main_code'"
     ]
    }
   ],
   "source": [
    "from main_code import reverse_list, count_items\n",
    "\n",
    "# Unit Testing\n",
    "def test_reverse_list():\n",
    "    assert reverse_list([1, 2, 3]) == [3, 2, 1]\n",
    "    assert reverse_list([\"apple\", \"orange\", \"banana\"]) == [\"banana\", \"orange\", \"apple\"]\n",
    "\n",
    "def test_count_items():\n",
    "    assert count_items([1, 1, 2, 3, 3, 3]) == {1: 2, 2: 1, 3: 3}\n",
    "    assert count_items([\"apple\", \"banana\", \"apple\", \"orange\", \"banana\"]) == {\"apple\": 2, \"banana\": 2, \"orange\": 1}\n",
    "\n",
    "def test_boundary_values():\n",
    "    assert reverse_list([]) == []\n",
    "    assert reverse_list([1]) == [1]\n",
    "\n",
    "def test_random_values():\n",
    "    import random\n",
    "    random_integers = [random.randint(1, 10) for _ in range(10)]\n",
    "    assert reverse_list(reverse_list(random_integers)) == random_integers\n",
    "\n",
    "# Run all tests\n",
    "def run_tests():\n",
    "    test_reverse_list()\n",
    "    test_count_items()\n",
    "    test_boundary_values()\n",
    "    test_random_values()\n",
    "    print(\"All tests passed!\")\n",
    "\n",
    "# Run the tests\n",
    "run_tests()\n"
   ]
  },
  {
   "cell_type": "code",
   "execution_count": null,
   "id": "0b0cf67b",
   "metadata": {},
   "outputs": [],
   "source": []
  }
 ],
 "metadata": {
  "kernelspec": {
   "display_name": "Python 3",
   "language": "python",
   "name": "python3"
  },
  "language_info": {
   "codemirror_mode": {
    "name": "ipython",
    "version": 3
   },
   "file_extension": ".py",
   "mimetype": "text/x-python",
   "name": "python",
   "nbconvert_exporter": "python",
   "pygments_lexer": "ipython3",
   "version": "3.8.10"
  }
 },
 "nbformat": 4,
 "nbformat_minor": 5
}
